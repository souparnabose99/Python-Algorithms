{
 "cells": [
  {
   "cell_type": "markdown",
   "metadata": {},
   "source": [
    "# Sorting Algorithms:"
   ]
  },
  {
   "cell_type": "markdown",
   "metadata": {},
   "source": [
    "# Bubble sort:"
   ]
  },
  {
   "cell_type": "code",
   "execution_count": 3,
   "metadata": {},
   "outputs": [],
   "source": [
    "def bubble_sort(arr):\n",
    "    \n",
    "    n = len(arr)-1\n",
    "    \n",
    "    for i in range(n):\n",
    "        \n",
    "        for j in range(0, n-i):\n",
    "            \n",
    "            if arr[j]>arr[j+1]:\n",
    "                temp = arr[j]\n",
    "                arr[j] = arr[j+1]\n",
    "                arr[j+1] = temp\n",
    "                \n",
    "    return arr"
   ]
  },
  {
   "cell_type": "code",
   "execution_count": 4,
   "metadata": {},
   "outputs": [
    {
     "data": {
      "text/plain": [
       "[5, 12, 45, 75, 89, 106]"
      ]
     },
     "execution_count": 4,
     "metadata": {},
     "output_type": "execute_result"
    }
   ],
   "source": [
    "arr = [45,89,12,75,106,5]\n",
    "bubble_sort(arr)"
   ]
  },
  {
   "cell_type": "code",
   "execution_count": 5,
   "metadata": {},
   "outputs": [
    {
     "data": {
      "text/plain": [
       "[1, 9, 10, 11, 12, 23, 34, 44, 45, 56]"
      ]
     },
     "execution_count": 5,
     "metadata": {},
     "output_type": "execute_result"
    }
   ],
   "source": [
    "arr2 = [23,1,45,56,12,34,44,11,10,9]\n",
    "bubble_sort(arr2)"
   ]
  },
  {
   "cell_type": "markdown",
   "metadata": {},
   "source": [
    "# Selection Sort:"
   ]
  },
  {
   "cell_type": "code",
   "execution_count": 17,
   "metadata": {},
   "outputs": [],
   "source": [
    "def selec_sort(arr):\n",
    "    \n",
    "    for i in range(0,len(arr)):\n",
    "        \n",
    "        min_idx = i\n",
    "        \n",
    "        for j in range(i+1,len(arr)):\n",
    "            \n",
    "            if arr[min_idx]>arr[j]:\n",
    "                \n",
    "                min_idx = j\n",
    "                \n",
    "        arr[i],arr[min_idx] = arr[min_idx],arr[i]\n",
    "        \n",
    "    return arr"
   ]
  },
  {
   "cell_type": "code",
   "execution_count": 18,
   "metadata": {},
   "outputs": [
    {
     "data": {
      "text/plain": [
       "[1, 21, 23, 32, 34, 59, 78]"
      ]
     },
     "execution_count": 18,
     "metadata": {},
     "output_type": "execute_result"
    }
   ],
   "source": [
    "arr1 = [34,1,23,59,21,78,32]\n",
    "selec_sort(arr1)"
   ]
  },
  {
   "cell_type": "code",
   "execution_count": 19,
   "metadata": {},
   "outputs": [],
   "source": [
    "def selection_sort(L):\n",
    "    \n",
    "    for i in range(len(L)):\n",
    "        \n",
    "        min_index = i\n",
    "        \n",
    "        for j in range(i+1, len(L)):\n",
    "            \n",
    "            if L[j] < L[min_index]:\n",
    "                min_index = j\n",
    "        \n",
    "        temp = L[i]\n",
    "        L[i] = L[min_index]\n",
    "        L[min_index] = temp\n",
    "        \n",
    "    return L"
   ]
  },
  {
   "cell_type": "code",
   "execution_count": 20,
   "metadata": {},
   "outputs": [
    {
     "data": {
      "text/plain": [
       "[1, 21, 23, 32, 34, 59, 78]"
      ]
     },
     "execution_count": 20,
     "metadata": {},
     "output_type": "execute_result"
    }
   ],
   "source": [
    "arr1 = [34,1,23,59,21,78,32]\n",
    "selection_sort(arr1)"
   ]
  },
  {
   "cell_type": "markdown",
   "metadata": {},
   "source": [
    "# Insertion Sort:"
   ]
  },
  {
   "cell_type": "code",
   "execution_count": 12,
   "metadata": {},
   "outputs": [],
   "source": [
    "def insertion_sort(arr):\n",
    "    \n",
    "    for i in range(1,len(arr)):\n",
    "        \n",
    "        current_value = arr[i]\n",
    "        position = i\n",
    "        \n",
    "        while position>0 and arr[position-1]>current_value:\n",
    "            \n",
    "            arr[position] = arr[position-1]\n",
    "            position = position-1\n",
    "        \n",
    "        arr[position] = current_value\n",
    "        \n",
    "    return arr"
   ]
  },
  {
   "cell_type": "code",
   "execution_count": 13,
   "metadata": {},
   "outputs": [],
   "source": [
    "arr = [50,30,10,80,20,40]"
   ]
  },
  {
   "cell_type": "code",
   "execution_count": 14,
   "metadata": {},
   "outputs": [
    {
     "data": {
      "text/plain": [
       "[10, 20, 30, 40, 50, 80]"
      ]
     },
     "execution_count": 14,
     "metadata": {},
     "output_type": "execute_result"
    }
   ],
   "source": [
    "insertion_sort(arr)"
   ]
  },
  {
   "cell_type": "markdown",
   "metadata": {},
   "source": [
    "# Merge Sort: "
   ]
  },
  {
   "cell_type": "code",
   "execution_count": 29,
   "metadata": {},
   "outputs": [],
   "source": [
    "def merge_sort(arr):\n",
    "    \n",
    "    if len(arr)>1:\n",
    "        \n",
    "        mid = int(len(arr)/2)\n",
    "        lefthalf = arr[:mid]\n",
    "        righthalf = arr[mid:]\n",
    "        \n",
    "        merge_sort(lefthalf)\n",
    "        merge_sort(righthalf)\n",
    "        \n",
    "        i=0\n",
    "        j=0\n",
    "        k=0\n",
    "        \n",
    "        while i<len(lefthalf) and j<len(righthalf):\n",
    "            \n",
    "            if lefthalf[i]<righthalf[j]:\n",
    "                \n",
    "                arr[k] = lefthalf[i]\n",
    "                i +=1\n",
    "                \n",
    "            else:\n",
    "                \n",
    "                arr[k] = righthalf[j]\n",
    "                j +=1\n",
    "                \n",
    "            k +=1\n",
    "            \n",
    "        while i<len(lefthalf):\n",
    "            \n",
    "            arr[k] = lefthalf[i]\n",
    "            \n",
    "            i +=1\n",
    "            k +=1\n",
    "            \n",
    "        while j<len(righthalf):\n",
    "            \n",
    "            arr[k] = righthalf[j]\n",
    "            \n",
    "            j +=1\n",
    "            k +=1\n",
    "     \n",
    "    print('Merging : ',arr)\n",
    "    return arr"
   ]
  },
  {
   "cell_type": "code",
   "execution_count": 30,
   "metadata": {},
   "outputs": [
    {
     "name": "stdout",
     "output_type": "stream",
     "text": [
      "Merging :  [34]\n",
      "Merging :  [6]\n",
      "Merging :  [6, 34]\n",
      "Merging :  [2]\n",
      "Merging :  [68]\n",
      "Merging :  [2, 68]\n",
      "Merging :  [2, 6, 34, 68]\n",
      "Merging :  [1]\n",
      "Merging :  [7]\n",
      "Merging :  [1, 7]\n",
      "Merging :  [4]\n",
      "Merging :  [7]\n",
      "Merging :  [21]\n",
      "Merging :  [7, 21]\n",
      "Merging :  [4, 7, 21]\n",
      "Merging :  [1, 4, 7, 7, 21]\n",
      "Merging :  [1, 2, 4, 6, 7, 7, 21, 34, 68]\n"
     ]
    },
    {
     "data": {
      "text/plain": [
       "[1, 2, 4, 6, 7, 7, 21, 34, 68]"
      ]
     },
     "execution_count": 30,
     "metadata": {},
     "output_type": "execute_result"
    }
   ],
   "source": [
    "arr = [34,6,2,68,1,7,4,7,21]\n",
    "merge_sort(arr)"
   ]
  },
  {
   "cell_type": "markdown",
   "metadata": {},
   "source": [
    "# Quick Sort:"
   ]
  },
  {
   "cell_type": "code",
   "execution_count": 31,
   "metadata": {},
   "outputs": [],
   "source": [
    "def quick_sort(arr):\n",
    "    quick_sort_help(arr, 0, len(arr)-1)\n",
    "\n",
    "def quick_sort_help(arr, first, last):\n",
    "    \n",
    "    if first<last:\n",
    "        \n",
    "        splitpoint = partition(arr, first, last)\n",
    "        \n",
    "        quick_sort_help(arr,first, splitpoint-1)\n",
    "        quick_sort_help(arr,splitpoint+1,last)\n",
    "\n",
    "def partition(arr, first, last):\n",
    "    \n",
    "    pivotvalue = arr[first]\n",
    "    \n",
    "    leftmark = first+1"
   ]
  },
  {
   "cell_type": "code",
   "execution_count": null,
   "metadata": {},
   "outputs": [],
   "source": []
  }
 ],
 "metadata": {
  "kernelspec": {
   "display_name": "Python 3",
   "language": "python",
   "name": "python3"
  },
  "language_info": {
   "codemirror_mode": {
    "name": "ipython",
    "version": 3
   },
   "file_extension": ".py",
   "mimetype": "text/x-python",
   "name": "python",
   "nbconvert_exporter": "python",
   "pygments_lexer": "ipython3",
   "version": "3.7.9"
  }
 },
 "nbformat": 4,
 "nbformat_minor": 4
}
